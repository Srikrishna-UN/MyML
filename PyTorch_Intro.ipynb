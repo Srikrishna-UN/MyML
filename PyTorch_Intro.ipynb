{
 "cells": [
  {
   "cell_type": "markdown",
   "id": "0adeba2f-5ddb-4620-bdf4-304a58d4b02b",
   "metadata": {},
   "source": [
    "# PyTorch\n",
    "**PyTorch** is a ML and DL framework. It allows you to manipulate and perform operations on data and write ML and DL algorithms"
   ]
  },
  {
   "cell_type": "code",
   "execution_count": 2,
   "id": "f0876a95-e48c-4f85-a42c-9d5122ee779b",
   "metadata": {
    "ExecuteTime": {
     "end_time": "2023-07-06T05:53:46.443522900Z",
     "start_time": "2023-07-06T05:53:41.691152200Z"
    }
   },
   "outputs": [],
   "source": [
    "import torch \n",
    "from torch import nn\n",
    "# if already installed\n",
    "#torch.__version__"
   ]
  },
  {
   "cell_type": "markdown",
   "id": "25599be1-4185-4d19-9266-6e06e7a8b68f",
   "metadata": {},
   "source": [
    "Data in ML and DL problems are usually represented in form of **Tensors**. For example a RGB image with width and height 224 pixels could be represented in a tensor of shape [224,224,3]"
   ]
  },
  {
   "cell_type": "code",
   "execution_count": 9,
   "id": "f6f47f3c-e0c3-4940-97bf-89a4b6698e51",
   "metadata": {
    "ExecuteTime": {
     "end_time": "2023-07-06T05:54:29.507994200Z",
     "start_time": "2023-07-06T05:54:29.493278100Z"
    }
   },
   "outputs": [
    {
     "data": {
      "text/plain": "tensor([[1, 2, 3],\n        [4, 5, 6],\n        [7, 8, 9]])"
     },
     "execution_count": 9,
     "metadata": {},
     "output_type": "execute_result"
    }
   ],
   "source": [
    "X = torch.tensor([[1,2,3],[4,5,6],[7,8,9]])\n",
    "X"
   ]
  },
  {
   "cell_type": "markdown",
   "id": "20f895d8-48f3-47f1-857a-f38fc35f26bd",
   "metadata": {},
   "source": [
    "This is a example of a tensor. You can imagine it as nested arrays for better visualization.\n",
    "These tensors have dimensions,shape and place where it is stored\n",
    "Shape errors are the most common errors while working with tensors"
   ]
  },
  {
   "cell_type": "code",
   "execution_count": 41,
   "id": "2271db9c-0032-42c1-bb66-26410a0a3850",
   "metadata": {},
   "outputs": [
    {
     "data": {
      "text/plain": [
       "(3, torch.Size([2, 3, 3]), device(type='cpu'))"
      ]
     },
     "execution_count": 41,
     "metadata": {},
     "output_type": "execute_result"
    }
   ],
   "source": [
    "X.ndim,X.shape,X.device"
   ]
  },
  {
   "cell_type": "markdown",
   "id": "56bd5c00-cdd3-4fb2-85b6-1954d30ef106",
   "metadata": {},
   "source": [
    "This acts like a measure of size for the tensor\n",
    "-->One way to check dimensions is to count the number of square brackets\n",
    "![example of different tensor dimensions](https://raw.githubusercontent.com/mrdbourke/pytorch-deep-learning/main/images/00-pytorch-different-tensor-dimensions.png)\n"
   ]
  },
  {
   "cell_type": "markdown",
   "id": "cea35f25-252f-4125-9302-5df69f89a7d5",
   "metadata": {},
   "source": [
    "A tensor can be creates using the above used torch.tensor(arg)\n",
    "-->the arg should be a array-like object"
   ]
  },
  {
   "cell_type": "markdown",
   "id": "f05fd69e-db13-4782-9183-6e4ad35691a0",
   "metadata": {},
   "source": [
    "The tensor doesn't change unless reassigned "
   ]
  },
  {
   "cell_type": "markdown",
   "id": "9de1ad2b-64d4-4b61-8707-6a85d54dab75",
   "metadata": {},
   "source": [
    "## Different ways to create a tensor"
   ]
  },
  {
   "cell_type": "code",
   "execution_count": 10,
   "id": "8ba7c8f9-d661-4949-a939-58312dca2af9",
   "metadata": {},
   "outputs": [
    {
     "data": {
      "text/plain": [
       "(tensor([[1, 1, 1],\n",
       "         [2, 2, 2]]),\n",
       " tensor(7),\n",
       " tensor([[1, 2, 3],\n",
       "         [4, 5, 6]], dtype=torch.int32),\n",
       " tensor([[0., 0., 0.],\n",
       "         [0., 0., 0.]]),\n",
       " tensor([[1., 1., 1.],\n",
       "         [1., 1., 1.]]),\n",
       " tensor([[0.2274, 0.8546, 0.1826],\n",
       "         [0.6372, 0.4153, 0.2929]]),\n",
       " tensor([0.0000, 0.1000, 0.2000, 0.3000, 0.4000, 0.5000, 0.6000, 0.7000, 0.8000,\n",
       "         0.9000]))"
      ]
     },
     "execution_count": 10,
     "metadata": {},
     "output_type": "execute_result"
    }
   ],
   "source": [
    "# Array of arrays\n",
    "T1 = torch.tensor([[1,1,1],[2,2,2]])\n",
    "\n",
    "# Scalar\n",
    "T2 = torch.tensor(7)\n",
    "\n",
    "# Numpy array\n",
    "import numpy as np\n",
    "A3 = np.array([[1,2,3],[4,5,6]])\n",
    "T3 = torch.from_numpy(A3)\n",
    "\n",
    "# Zeroes and Ones \n",
    "T4 = torch.zeros(2,3)\n",
    "T5 = torch.ones(2,3)\n",
    "\n",
    "# Random tensor\n",
    "T6 = torch.rand(size=(2,3))\n",
    "\n",
    "#Creating a tensor in a range\n",
    "T7 = torch.arange(0,1,0.1)\n",
    "\n",
    "T1,T2,T3,T4,T5,T6,T7"
   ]
  },
  {
   "cell_type": "markdown",
   "id": "df2e3103-519f-4d9e-93cc-ce80f14f7c8e",
   "metadata": {},
   "source": [
    "## Indexing\n",
    "Indexing of tensors are very similiar to lists and nested lists in Python\n",
    "The indexing goes from outermost array to the innermost array"
   ]
  },
  {
   "cell_type": "code",
   "execution_count": 36,
   "id": "8a6539df-57cb-4565-947e-a235ca4bcafb",
   "metadata": {},
   "outputs": [
    {
     "data": {
      "text/plain": [
       "tensor([[[0.4654, 0.1352, 0.2454],\n",
       "         [0.7015, 0.0752, 0.5946],\n",
       "         [0.5770, 0.7322, 0.0645]],\n",
       "\n",
       "        [[0.0491, 0.5258, 0.8134],\n",
       "         [0.0470, 0.6637, 0.6584],\n",
       "         [0.9100, 0.9794, 0.3959]]])"
      ]
     },
     "execution_count": 36,
     "metadata": {},
     "output_type": "execute_result"
    }
   ],
   "source": [
    "X = torch.rand(2,3,3)\n",
    "X"
   ]
  },
  {
   "cell_type": "code",
   "execution_count": 38,
   "id": "3c64aa28-2405-4d84-806c-365012cf027f",
   "metadata": {
    "tags": []
   },
   "outputs": [
    {
     "data": {
      "text/plain": [
       "(tensor([[0.4654, 0.1352, 0.2454],\n",
       "         [0.7015, 0.0752, 0.5946],\n",
       "         [0.5770, 0.7322, 0.0645]]),\n",
       " tensor([0.4654, 0.1352, 0.2454]),\n",
       " tensor(0.4654))"
      ]
     },
     "execution_count": 38,
     "metadata": {},
     "output_type": "execute_result"
    }
   ],
   "source": [
    "# The first number is index of the array and the second nuber is the index of element in that array\n",
    "X[0],X[0][0],X[0][0][0] #or X[0],X[0,0],X[0,0,0]"
   ]
  },
  {
   "cell_type": "markdown",
   "id": "0c32d3d7-f35c-405b-9c36-3d08f28f9fe6",
   "metadata": {},
   "source": [
    "Sometimes \":\" is used to specify all values in that dimension"
   ]
  },
  {
   "cell_type": "markdown",
   "id": "7c9e10ac-b6d6-4fe1-ba56-6f1630fb465d",
   "metadata": {},
   "source": [
    "## Tensor Operations\n",
    "Arithematic operations can be performed on tensors \n",
    ">Addition<br>\n",
    ">Subtraction<br>\n",
    ">Multiplication (element-wise)<br>\n",
    ">Division<br>\n",
    ">Matrix multiplication<br>"
   ]
  },
  {
   "cell_type": "code",
   "execution_count": 43,
   "id": "38df9ed1-0db4-448f-b68f-9947be8f5b34",
   "metadata": {},
   "outputs": [
    {
     "data": {
      "text/plain": [
       "(tensor([[0.0387, 0.1046, 0.6016],\n",
       "         [0.6386, 0.2815, 0.3608],\n",
       "         [0.7327, 0.1983, 0.2058]]),\n",
       " tensor([[0.0592, 0.7194, 0.1704],\n",
       "         [0.2114, 0.7615, 0.6456],\n",
       "         [0.1249, 0.5405, 0.8303]]))"
      ]
     },
     "execution_count": 43,
     "metadata": {},
     "output_type": "execute_result"
    }
   ],
   "source": [
    "A = torch.rand(3,3)\n",
    "B = torch.rand(3,3)\n",
    "A,B"
   ]
  },
  {
   "cell_type": "markdown",
   "id": "b8bcfb8f-b7be-4d87-a684-389b233cd774",
   "metadata": {},
   "source": [
    "Addition can be performed using the usual \"+\" operator"
   ]
  },
  {
   "cell_type": "code",
   "execution_count": 45,
   "id": "8634e91e-3ee3-48e5-87ae-b98f80257e6d",
   "metadata": {},
   "outputs": [
    {
     "data": {
      "text/plain": [
       "(tensor([[0.0979, 0.8240, 0.7720],\n",
       "         [0.8500, 1.0430, 1.0064],\n",
       "         [0.8576, 0.7388, 1.0361]]),\n",
       " tensor([[10.0387, 10.1046, 10.6016],\n",
       "         [10.6386, 10.2815, 10.3608],\n",
       "         [10.7327, 10.1983, 10.2058]]))"
      ]
     },
     "execution_count": 45,
     "metadata": {},
     "output_type": "execute_result"
    }
   ],
   "source": [
    "A+B,A+10"
   ]
  },
  {
   "cell_type": "markdown",
   "id": "2c82de5f-93e8-44be-9f76-58fe3a007d3a",
   "metadata": {},
   "source": [
    "Same goes for subtraction, multiplication, division\n",
    "PS: Multiplication here implies element - wise"
   ]
  },
  {
   "cell_type": "code",
   "execution_count": 46,
   "id": "58fbb2a1-c511-4218-928a-efd6ea019700",
   "metadata": {},
   "outputs": [
    {
     "data": {
      "text/plain": [
       "(tensor([[-0.0205, -0.6148,  0.4312],\n",
       "         [ 0.4273, -0.4801, -0.2847],\n",
       "         [ 0.6078, -0.3422, -0.6245]]),\n",
       " tensor([[0.0023, 0.0753, 0.1025],\n",
       "         [0.1350, 0.2144, 0.2330],\n",
       "         [0.0915, 0.1072, 0.1709]]),\n",
       " tensor([[0.6531, 0.1454, 3.5305],\n",
       "         [3.0214, 0.3696, 0.5590],\n",
       "         [5.8666, 0.3669, 0.2479]]))"
      ]
     },
     "execution_count": 46,
     "metadata": {},
     "output_type": "execute_result"
    }
   ],
   "source": [
    "A-B, A*B, A/B"
   ]
  },
  {
   "cell_type": "markdown",
   "id": "0ee3bdea-4f5a-4392-916c-3fe199e46795",
   "metadata": {},
   "source": [
    "There is a unique operator for matrix multiplication\n",
    "You either use matmul() or mm() or \"@\" operator for matrix multiplication"
   ]
  },
  {
   "cell_type": "code",
   "execution_count": 48,
   "id": "35b64fc6-db81-43c8-9e98-e13956ac197c",
   "metadata": {},
   "outputs": [
    {
     "data": {
      "text/plain": [
       "tensor([[0.0995, 0.4327, 0.5736],\n",
       "        [0.1424, 0.8688, 0.5902],\n",
       "        [0.1110, 0.7894, 0.4238]])"
      ]
     },
     "execution_count": 48,
     "metadata": {},
     "output_type": "execute_result"
    }
   ],
   "source": [
    "torch.matmul(A,B)"
   ]
  },
  {
   "cell_type": "code",
   "execution_count": 49,
   "id": "d48dcdce-d0d0-49aa-9117-a193688a63fb",
   "metadata": {},
   "outputs": [
    {
     "data": {
      "text/plain": [
       "tensor([[0.0995, 0.4327, 0.5736],\n",
       "        [0.1424, 0.8688, 0.5902],\n",
       "        [0.1110, 0.7894, 0.4238]])"
      ]
     },
     "execution_count": 49,
     "metadata": {},
     "output_type": "execute_result"
    }
   ],
   "source": [
    "A@B"
   ]
  },
  {
   "cell_type": "markdown",
   "id": "68f5154b-ea83-4bed-bb99-3444eb0138b9",
   "metadata": {},
   "source": [
    "Matrix multiplication using tensors follows the rules of normal matrix multiplication\n",
    "Eg: (2,2) @ (3,3) is not allowed\n",
    "    (2,3) @ (3,2) is allowed"
   ]
  },
  {
   "cell_type": "markdown",
   "id": "27bb20a7-c0b8-480e-82f9-e7cd341aeaf6",
   "metadata": {},
   "source": [
    "Since we are talking about matrices there is a built-in transpose method or torch.tensor(input,dim0,dim1) where dim0 and dim need to be swapped"
   ]
  },
  {
   "cell_type": "code",
   "execution_count": 53,
   "id": "32c16554-9223-42d3-843b-40770c9f82a2",
   "metadata": {},
   "outputs": [
    {
     "data": {
      "text/plain": [
       "(tensor([[0.0387, 0.6386, 0.7327],\n",
       "         [0.1046, 0.2815, 0.1983],\n",
       "         [0.6016, 0.3608, 0.2058]]),\n",
       " tensor([[0.0592, 0.2114, 0.1249],\n",
       "         [0.7194, 0.7615, 0.5405],\n",
       "         [0.1704, 0.6456, 0.8303]]))"
      ]
     },
     "execution_count": 53,
     "metadata": {},
     "output_type": "execute_result"
    }
   ],
   "source": [
    "A.T,B.T"
   ]
  },
  {
   "cell_type": "markdown",
   "id": "632de8f1-3ea1-4e54-8546-ef1f180a13e8",
   "metadata": {},
   "source": [
    "The minimum, maximum, mean and sum of a tensor can be found using built-in methods"
   ]
  },
  {
   "cell_type": "code",
   "execution_count": 58,
   "id": "ba17c617-b90b-414f-a7d6-c920bc09984a",
   "metadata": {},
   "outputs": [
    {
     "data": {
      "text/plain": [
       "(tensor(0.0387), tensor(0.7327), tensor(0.3514), tensor(3.1627))"
      ]
     },
     "execution_count": 58,
     "metadata": {},
     "output_type": "execute_result"
    }
   ],
   "source": [
    "A.min(),A.max(),A.mean(),A.sum()"
   ]
  },
  {
   "cell_type": "markdown",
   "id": "cf98d491-78e0-43c1-8126-45720d729106",
   "metadata": {},
   "source": [
    "The position of min and max element can be found usin argmin() and argmax() methods"
   ]
  },
  {
   "cell_type": "markdown",
   "id": "688cc4c6-7137-454c-bf14-de960dd191de",
   "metadata": {},
   "source": [
    "## Reshaping, stacking, squeezing and unsqueezing\n",
    ">torch.reshape(input, shape) -- Reshapes input to shape (if compatible), can also use torch.Tensor.reshape().<br>\n",
    "torch.Tensor.view(shape) -- Returns a view of the original tensor in a different shape but shares the same data as the original tensor.<br>\n",
    "torch.stack(tensors, dim=0) -- Concatenates a sequence of tensors along a new dimension (dim), all tensors must be same size.<br>\n",
    "torch.squeeze(input) -- Squeezes input to remove all the dimenions with value 1.<br>\n",
    "torch.unsqueeze(input, dim) -- Returns input with a dimension value of 1 added at dim.<br>\n",
    "torch.permute(input, dims) -- Returns a view of the original input with its dimensions permuted (rearranged) to dims.<br>"
   ]
  },
  {
   "cell_type": "code",
   "execution_count": 7,
   "id": "04d6caa4-c8ec-461e-9235-7d86abf414f4",
   "metadata": {},
   "outputs": [
    {
     "data": {
      "text/plain": [
       "(tensor([[1, 2, 3],\n",
       "         [4, 5, 6],\n",
       "         [7, 8, 9]]),\n",
       " torch.Size([3, 3]))"
      ]
     },
     "execution_count": 7,
     "metadata": {},
     "output_type": "execute_result"
    }
   ],
   "source": [
    "# Defining a tensor\n",
    "X = torch.tensor([[1,2,3],[4,5,6],[7,8,9]])\n",
    "X,X.shape"
   ]
  },
  {
   "cell_type": "markdown",
   "id": "999ebadd-ba86-4813-987c-e4fb230b8823",
   "metadata": {},
   "source": [
    "torch.reshape(some_tensor,(required_shape))\n",
    "Return some_tensor in required_shape"
   ]
  },
  {
   "cell_type": "code",
   "execution_count": 8,
   "id": "9645e22c-283d-41fb-a0cd-62753fb78495",
   "metadata": {},
   "outputs": [
    {
     "data": {
      "text/plain": [
       "tensor([[[1, 2, 3],\n",
       "         [4, 5, 6],\n",
       "         [7, 8, 9]]])"
      ]
     },
     "execution_count": 8,
     "metadata": {},
     "output_type": "execute_result"
    }
   ],
   "source": [
    "X1 = torch.reshape(X,(1,3,3)) # Tensors have to be reassigned\n",
    "X1"
   ]
  },
  {
   "cell_type": "markdown",
   "id": "a22cdde2-d302-4368-a1a2-808fa30fccab",
   "metadata": {},
   "source": [
    "This returns the matrix in the given shape "
   ]
  },
  {
   "cell_type": "code",
   "execution_count": 12,
   "id": "6b4e1e7e-0ee9-4036-8335-dfad8826b187",
   "metadata": {},
   "outputs": [
    {
     "data": {
      "text/plain": [
       "tensor([[[1, 2, 3],\n",
       "         [4, 5, 6],\n",
       "         [7, 8, 9]]])"
      ]
     },
     "execution_count": 12,
     "metadata": {},
     "output_type": "execute_result"
    }
   ],
   "source": [
    "X.view(1,3,3)"
   ]
  },
  {
   "cell_type": "markdown",
   "id": "1f0f8e0d-91f4-419f-b4cd-7d67badfb8e1",
   "metadata": {},
   "source": [
    "torch.stack([tensors],dim=n) is used stack tensors of **same size**"
   ]
  },
  {
   "cell_type": "code",
   "execution_count": 41,
   "id": "e9cf133e-6628-426d-8c1e-35f5715dfa83",
   "metadata": {
    "tags": []
   },
   "outputs": [
    {
     "data": {
      "text/plain": [
       "tensor([[[1, 2, 3],\n",
       "         [4, 5, 6],\n",
       "         [7, 8, 9]],\n",
       "\n",
       "        [[1, 1, 1],\n",
       "         [2, 2, 2],\n",
       "         [3, 3, 3]]])"
      ]
     },
     "execution_count": 41,
     "metadata": {},
     "output_type": "execute_result"
    }
   ],
   "source": [
    "Y = torch.tensor([[1,1,1],[2,2,2],[3,3,3]])\n",
    "torch.stack([X,Y],dim=0)"
   ]
  },
  {
   "cell_type": "markdown",
   "id": "1b118957-8286-48f8-b77d-1403dd4cbb45",
   "metadata": {},
   "source": [
    "torch.squeeze(input)method removes all dimensions with value 1"
   ]
  },
  {
   "cell_type": "code",
   "execution_count": 53,
   "id": "b04394ae-567c-4147-9842-cd1d25029601",
   "metadata": {},
   "outputs": [
    {
     "data": {
      "text/plain": [
       "(torch.Size([1, 3, 3]), torch.Size([3, 3]))"
      ]
     },
     "execution_count": 53,
     "metadata": {},
     "output_type": "execute_result"
    }
   ],
   "source": [
    "X2 = torch.squeeze(X)\n",
    "X1.shape,X2.shape"
   ]
  },
  {
   "cell_type": "code",
   "execution_count": 58,
   "id": "7cd9fefe-05b9-44c0-b9d0-5a682fd0da99",
   "metadata": {},
   "outputs": [
    {
     "data": {
      "text/plain": [
       "(torch.Size([3, 3]),\n",
       " tensor([[[1, 2, 3],\n",
       "          [4, 5, 6],\n",
       "          [7, 8, 9]]]))"
      ]
     },
     "execution_count": 58,
     "metadata": {},
     "output_type": "execute_result"
    }
   ],
   "source": [
    "X2.shape,torch.unsqueeze(X2,dim=0)"
   ]
  },
  {
   "cell_type": "markdown",
   "source": [
    "### Thats all for now :)"
   ],
   "metadata": {
    "collapsed": false
   }
  }
 ],
 "metadata": {
  "kernelspec": {
   "display_name": "Python 3 (ipykernel)",
   "language": "python",
   "name": "python3"
  },
  "language_info": {
   "codemirror_mode": {
    "name": "ipython",
    "version": 3
   },
   "file_extension": ".py",
   "mimetype": "text/x-python",
   "name": "python",
   "nbconvert_exporter": "python",
   "pygments_lexer": "ipython3",
   "version": "3.9.13"
  }
 },
 "nbformat": 4,
 "nbformat_minor": 5
}
